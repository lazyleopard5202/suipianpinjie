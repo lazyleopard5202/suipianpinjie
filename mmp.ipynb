{
 "cells": [
  {
   "cell_type": "code",
   "execution_count": 1,
   "metadata": {
    "ExecuteTime": {
     "end_time": "2021-04-22T06:13:02.015621Z",
     "start_time": "2021-04-22T06:12:56.351880Z"
    }
   },
   "outputs": [],
   "source": [
    "from plyfile import PlyData\n",
    "import matplotlib.gridspec as gridspec\n",
    "import matplotlib\n",
    "from pyecharts.charts import *\n",
    "from pyecharts import options as opts\n",
    "from pyecharts.commons.utils import JsCode\n",
    "import pandas as pd\n",
    "import numpy as np\n",
    "\n",
    "from sklearn.cluster import KMeans\n",
    "import math\n",
    "import matplotlib.pyplot as plt\n",
    "import scipy as sp\n",
    "import scipy.sparse.linalg\n",
    "import random"
   ]
  },
  {
   "cell_type": "code",
   "execution_count": 10,
   "metadata": {
    "ExecuteTime": {
     "end_time": "2021-04-22T06:23:07.811381Z",
     "start_time": "2021-04-22T06:22:47.364812Z"
    }
   },
   "outputs": [],
   "source": [
    "\n",
    "def readPly(plydata):\n",
    "    dotList = list(plydata.elements[0])\n",
    "    for i in range(len(dotList)):\n",
    "        dotList[i] = [dotList[i][0],dotList[i][1],dotList[i][2]]\n",
    "    faceList = list(plydata.elements[1])\n",
    "    for i in range(len(faceList)):\n",
    "        faceList[i] = [faceList[i][0][0],faceList[i][0][1],faceList[i][0][2]]\n",
    "    return dotList,faceList\n",
    "plydata = PlyData.read('sa4_color5.ply')\n",
    "dotList, faceList = readPly(plydata)"
   ]
  },
  {
   "cell_type": "code",
   "execution_count": 5,
   "metadata": {
    "ExecuteTime": {
     "end_time": "2021-04-22T06:17:30.221271Z",
     "start_time": "2021-04-22T06:17:30.138272Z"
    }
   },
   "outputs": [
    {
     "data": {
      "text/plain": [
       "PlyElement('face', (PlyListProperty('vertex_indices', 'uchar', 'int'), PlyProperty('red', 'uchar'), PlyProperty('green', 'uchar'), PlyProperty('blue', 'uchar')), count=35462, comments=[])"
      ]
     },
     "execution_count": 5,
     "metadata": {},
     "output_type": "execute_result"
    }
   ],
   "source": [
    "\n",
    "plydata.elements[1]\n",
    "# plydata.write('123.ply')"
   ]
  },
  {
   "cell_type": "code",
   "execution_count": 11,
   "metadata": {
    "ExecuteTime": {
     "end_time": "2021-04-22T06:23:08.745085Z",
     "start_time": "2021-04-22T06:23:07.826889Z"
    }
   },
   "outputs": [
    {
     "ename": "MemoryError",
     "evalue": "Unable to allocate 4.68 GiB for an array with shape (35462, 35462) and data type float32",
     "output_type": "error",
     "traceback": [
      "\u001b[1;31m---------------------------------------------------------------------------\u001b[0m",
      "\u001b[1;31mMemoryError\u001b[0m                               Traceback (most recent call last)",
      "\u001b[1;32m<ipython-input-11-a7cd592f312f>\u001b[0m in \u001b[0;36m<module>\u001b[1;34m\u001b[0m\n\u001b[0;32m     62\u001b[0m \u001b[1;33m\u001b[0m\u001b[0m\n\u001b[0;32m     63\u001b[0m \u001b[0mvertexList\u001b[0m \u001b[1;33m=\u001b[0m \u001b[0mgenerate_vertex\u001b[0m\u001b[1;33m(\u001b[0m\u001b[0mfaceList\u001b[0m\u001b[1;33m,\u001b[0m \u001b[0mdotList\u001b[0m\u001b[1;33m)\u001b[0m\u001b[1;33m\u001b[0m\u001b[1;33m\u001b[0m\u001b[0m\n\u001b[1;32m---> 64\u001b[1;33m \u001b[0mW\u001b[0m \u001b[1;33m=\u001b[0m \u001b[0mmakeW\u001b[0m\u001b[1;33m(\u001b[0m\u001b[1;36m1\u001b[0m\u001b[1;33m,\u001b[0m \u001b[0mdotList\u001b[0m\u001b[1;33m,\u001b[0m \u001b[0mfaceList\u001b[0m\u001b[1;33m,\u001b[0m \u001b[0mvertexList\u001b[0m\u001b[1;33m)\u001b[0m\u001b[1;33m\u001b[0m\u001b[1;33m\u001b[0m\u001b[0m\n\u001b[0m\u001b[0;32m     65\u001b[0m \u001b[1;32mdel\u001b[0m \u001b[0mfaceList\u001b[0m\u001b[1;33m\u001b[0m\u001b[1;33m\u001b[0m\u001b[0m\n\u001b[0;32m     66\u001b[0m \u001b[1;32mdel\u001b[0m \u001b[0mdotList\u001b[0m\u001b[1;33m\u001b[0m\u001b[1;33m\u001b[0m\u001b[0m\n",
      "\u001b[1;32m<ipython-input-11-a7cd592f312f>\u001b[0m in \u001b[0;36mmakeW\u001b[1;34m(gamma, dotList, faceList, vertexList)\u001b[0m\n\u001b[0;32m     23\u001b[0m \u001b[1;33m\u001b[0m\u001b[0m\n\u001b[0;32m     24\u001b[0m \u001b[1;32mdef\u001b[0m \u001b[0mmakeW\u001b[0m\u001b[1;33m(\u001b[0m\u001b[0mgamma\u001b[0m\u001b[1;33m,\u001b[0m \u001b[0mdotList\u001b[0m\u001b[1;33m,\u001b[0m\u001b[0mfaceList\u001b[0m\u001b[1;33m,\u001b[0m\u001b[0mvertexList\u001b[0m\u001b[1;33m)\u001b[0m\u001b[1;33m:\u001b[0m\u001b[1;33m\u001b[0m\u001b[1;33m\u001b[0m\u001b[0m\n\u001b[1;32m---> 25\u001b[1;33m     \u001b[0mgraph\u001b[0m \u001b[1;33m=\u001b[0m \u001b[0mnp\u001b[0m\u001b[1;33m.\u001b[0m\u001b[0mzeros\u001b[0m\u001b[1;33m(\u001b[0m\u001b[1;33m(\u001b[0m\u001b[0mlen\u001b[0m\u001b[1;33m(\u001b[0m\u001b[0mfaceList\u001b[0m\u001b[1;33m)\u001b[0m\u001b[1;33m,\u001b[0m\u001b[0mlen\u001b[0m\u001b[1;33m(\u001b[0m\u001b[0mfaceList\u001b[0m\u001b[1;33m)\u001b[0m\u001b[1;33m)\u001b[0m\u001b[1;33m)\u001b[0m\u001b[1;33m.\u001b[0m\u001b[0mastype\u001b[0m\u001b[1;33m(\u001b[0m\u001b[0mnp\u001b[0m\u001b[1;33m.\u001b[0m\u001b[0mfloat32\u001b[0m\u001b[1;33m)\u001b[0m\u001b[1;33m\u001b[0m\u001b[1;33m\u001b[0m\u001b[0m\n\u001b[0m\u001b[0;32m     26\u001b[0m     \u001b[0mhashMap\u001b[0m \u001b[1;33m=\u001b[0m \u001b[1;33m{\u001b[0m\u001b[1;33m}\u001b[0m\u001b[1;33m\u001b[0m\u001b[1;33m\u001b[0m\u001b[0m\n\u001b[0;32m     27\u001b[0m     \u001b[0mdot_size\u001b[0m \u001b[1;33m=\u001b[0m \u001b[0mlen\u001b[0m\u001b[1;33m(\u001b[0m\u001b[0mdotList\u001b[0m\u001b[1;33m)\u001b[0m\u001b[1;33m\u001b[0m\u001b[1;33m\u001b[0m\u001b[0m\n",
      "\u001b[1;31mMemoryError\u001b[0m: Unable to allocate 4.68 GiB for an array with shape (35462, 35462) and data type float32"
     ]
    }
   ],
   "source": [
    "def generate_vertex(faceList, dotList):\n",
    "    vertexList = []\n",
    "    for face in faceList:\n",
    "        a = dotList[face[0]]\n",
    "        b = dotList[face[1]]\n",
    "        c = dotList[face[2]]\n",
    "        vertexA = [b[0] - a[0], b[1] - a[1], b[2] - a[2]]\n",
    "        vertexB = [c[0] - a[0], c[1] - a[1], c[2] - a[2]]\n",
    "        i = vertexA[1] * vertexB[2] - vertexA[2] * vertexB[1]\n",
    "        j = vertexA[2] * vertexB[0] - vertexA[0] * vertexB[2]\n",
    "        k = vertexA[0] * vertexB[1] - vertexA[1] * vertexB[0]\n",
    "        res = math.sqrt(i**2+j**2+k**2)\n",
    "        i /= res\n",
    "        j /= res\n",
    "        k /= res\n",
    "        vertexList.append([i,j,k])\n",
    "    return vertexList\n",
    "\n",
    "def dis(vertexList, i, j):\n",
    "    a = vertexList[i]\n",
    "    b = vertexList[j]\n",
    "    return abs(a[0]*b[0]+a[1]*b[1]*a[2]*b[2])\n",
    "\n",
    "def makeW(gamma, dotList,faceList,vertexList):\n",
    "    graph = np.zeros((len(faceList),len(faceList))).astype(np.float32)\n",
    "    hashMap = {}\n",
    "    dot_size = len(dotList)\n",
    "    for i in range(len(faceList)):\n",
    "        face = faceList[i]\n",
    "        a = face[0]\n",
    "        b = face[1]\n",
    "        c = face[2]\n",
    "        t = 0\n",
    "        if(a > b):\n",
    "            t = a\n",
    "            a = b\n",
    "            b = t\n",
    "        if(a > c):\n",
    "            t = a\n",
    "            a = c\n",
    "            c = t\n",
    "        if(b > c):\n",
    "            t = b\n",
    "            b = c\n",
    "            c = t\n",
    "        for j in range(3):\n",
    "            temp = -1\n",
    "            if (j == 0):\n",
    "                temp = a * dot_size + b\n",
    "            elif (j == 1):\n",
    "                temp = a * dot_size + c\n",
    "            elif (j == 2):\n",
    "                temp = b * dot_size + c\n",
    "            if (hashMap.get(temp) == None):\n",
    "                hashMap[temp] = i\n",
    "            else:\n",
    "                face_index = hashMap.get(temp)\n",
    "                distance = dis\n",
    "                graph[i][face_index] = distance \n",
    "                graph[face_index][i] = distance\n",
    "    return graph\n",
    "\n",
    "vertexList = generate_vertex(faceList, dotList)\n",
    "W = makeW(1, dotList, faceList, vertexList)\n",
    "del faceList\n",
    "del dotList\n",
    "del vertexList"
   ]
  },
  {
   "cell_type": "code",
   "execution_count": 3,
   "metadata": {
    "ExecuteTime": {
     "end_time": "2021-04-22T03:48:24.908028Z",
     "start_time": "2021-04-22T03:48:24.893028Z"
    }
   },
   "outputs": [
    {
     "data": {
      "text/plain": [
       "array([[1., 1., 1., 1., 1., 0., 0., 0., 0., 0.],\n",
       "       [1., 1., 1., 1., 1., 0., 0., 0., 0., 0.],\n",
       "       [1., 1., 1., 1., 1., 0., 0., 0., 0., 0.],\n",
       "       [1., 1., 1., 1., 1., 0., 0., 0., 0., 0.],\n",
       "       [1., 1., 1., 1., 1., 0., 0., 0., 0., 0.],\n",
       "       [0., 0., 0., 0., 0., 1., 1., 1., 1., 1.],\n",
       "       [0., 0., 0., 0., 0., 1., 1., 1., 1., 1.],\n",
       "       [0., 0., 0., 0., 0., 1., 1., 1., 1., 1.],\n",
       "       [0., 0., 0., 0., 0., 1., 1., 1., 1., 1.],\n",
       "       [0., 0., 0., 0., 0., 1., 1., 1., 1., 1.]])"
      ]
     },
     "execution_count": 3,
     "metadata": {},
     "output_type": "execute_result"
    }
   ],
   "source": [
    "W = np.zeros((10,10))\n",
    "W[0:5,0:5] = np.ones((5,5))\n",
    "W[5:10,5:10] = np.ones((5,5))\n",
    "W"
   ]
  },
  {
   "cell_type": "code",
   "execution_count": 14,
   "metadata": {
    "ExecuteTime": {
     "end_time": "2021-04-22T06:25:22.309295Z",
     "start_time": "2021-04-22T06:24:47.775562Z"
    }
   },
   "outputs": [
    {
     "data": {
      "text/plain": [
       "array([[0., 0., 0., ..., 0., 0., 0.],\n",
       "       [0., 0., 0., ..., 0., 0., 0.],\n",
       "       [0., 0., 0., ..., 0., 0., 0.],\n",
       "       ...,\n",
       "       [0., 0., 0., ..., 0., 0., 0.],\n",
       "       [0., 0., 0., ..., 0., 0., 0.],\n",
       "       [0., 0., 0., ..., 0., 0., 0.]], dtype=float32)"
      ]
     },
     "execution_count": 14,
     "metadata": {},
     "output_type": "execute_result"
    }
   ],
   "source": [
    "W[W<math.cos(math.pi*80/180)] = 0\n",
    "# scipy.sparse.csgraph.connected_components(sp.sparse.coo_matrix(W))\n",
    "W"
   ]
  },
  {
   "cell_type": "code",
   "execution_count": null,
   "metadata": {
    "ExecuteTime": {
     "end_time": "2021-04-22T06:26:42.307387Z",
     "start_time": "2021-04-22T06:26:39.747630Z"
    }
   },
   "outputs": [],
   "source": []
  },
  {
   "cell_type": "code",
   "execution_count": 4,
   "metadata": {
    "ExecuteTime": {
     "end_time": "2021-04-22T06:15:28.629354Z",
     "start_time": "2021-04-22T06:13:13.284754Z"
    },
    "scrolled": true
   },
   "outputs": [
    {
     "ename": "MemoryError",
     "evalue": "Unable to allocate 18.7 GiB for an array with shape (35462, 35462) and data type complex128",
     "output_type": "error",
     "traceback": [
      "\u001b[1;31m---------------------------------------------------------------------------\u001b[0m",
      "\u001b[1;31mMemoryError\u001b[0m                               Traceback (most recent call last)",
      "\u001b[1;32m<ipython-input-4-8d3808ce2835>\u001b[0m in \u001b[0;36m<module>\u001b[1;34m\u001b[0m\n\u001b[0;32m     56\u001b[0m     \u001b[1;32mreturn\u001b[0m  \u001b[0mlabel\u001b[0m\u001b[1;33m\u001b[0m\u001b[1;33m\u001b[0m\u001b[0m\n\u001b[0;32m     57\u001b[0m \u001b[1;33m\u001b[0m\u001b[0m\n\u001b[1;32m---> 58\u001b[1;33m \u001b[0mlabel\u001b[0m \u001b[1;33m=\u001b[0m \u001b[0mcluster\u001b[0m\u001b[1;33m(\u001b[0m\u001b[0mW\u001b[0m\u001b[1;33m,\u001b[0m \u001b[1;36m2\u001b[0m\u001b[1;33m)\u001b[0m\u001b[1;33m\u001b[0m\u001b[1;33m\u001b[0m\u001b[0m\n\u001b[0m\u001b[0;32m     59\u001b[0m \u001b[0mlabel\u001b[0m\u001b[1;33m\u001b[0m\u001b[1;33m\u001b[0m\u001b[0m\n",
      "\u001b[1;32m<ipython-input-4-8d3808ce2835>\u001b[0m in \u001b[0;36mcluster\u001b[1;34m(W, cluster_num)\u001b[0m\n\u001b[0;32m     50\u001b[0m \u001b[1;31m#     D = getD(W)\u001b[0m\u001b[1;33m\u001b[0m\u001b[1;33m\u001b[0m\u001b[1;33m\u001b[0m\u001b[0m\n\u001b[0;32m     51\u001b[0m     \u001b[0mL\u001b[0m \u001b[1;33m=\u001b[0m \u001b[0mgetL\u001b[0m\u001b[1;33m(\u001b[0m\u001b[0mW\u001b[0m\u001b[1;33m)\u001b[0m\u001b[1;33m\u001b[0m\u001b[1;33m\u001b[0m\u001b[0m\n\u001b[1;32m---> 52\u001b[1;33m     \u001b[0meigvec\u001b[0m \u001b[1;33m=\u001b[0m \u001b[0mgetEigen\u001b[0m\u001b[1;33m(\u001b[0m\u001b[0mL\u001b[0m\u001b[1;33m,\u001b[0m \u001b[0mcluster_num\u001b[0m\u001b[1;33m)\u001b[0m\u001b[1;33m\u001b[0m\u001b[1;33m\u001b[0m\u001b[0m\n\u001b[0m\u001b[0;32m     53\u001b[0m     \u001b[0mclf\u001b[0m \u001b[1;33m=\u001b[0m \u001b[0mKMeans\u001b[0m\u001b[1;33m(\u001b[0m\u001b[0mn_clusters\u001b[0m\u001b[1;33m=\u001b[0m\u001b[0mcluster_num\u001b[0m\u001b[1;33m)\u001b[0m\u001b[1;33m\u001b[0m\u001b[1;33m\u001b[0m\u001b[0m\n\u001b[0;32m     54\u001b[0m     \u001b[0ms\u001b[0m \u001b[1;33m=\u001b[0m \u001b[0mclf\u001b[0m\u001b[1;33m.\u001b[0m\u001b[0mfit\u001b[0m\u001b[1;33m(\u001b[0m\u001b[0meigvec\u001b[0m\u001b[1;33m)\u001b[0m  \u001b[1;31m# 聚类\u001b[0m\u001b[1;33m\u001b[0m\u001b[1;33m\u001b[0m\u001b[0m\n",
      "\u001b[1;32m<ipython-input-4-8d3808ce2835>\u001b[0m in \u001b[0;36mgetEigen\u001b[1;34m(L, cluster_num)\u001b[0m\n\u001b[0;32m     34\u001b[0m \u001b[1;31m#     return eigvec.real\u001b[0m\u001b[1;33m\u001b[0m\u001b[1;33m\u001b[0m\u001b[1;33m\u001b[0m\u001b[0m\n\u001b[0;32m     35\u001b[0m \u001b[1;33m\u001b[0m\u001b[0m\n\u001b[1;32m---> 36\u001b[1;33m     \u001b[0meigval\u001b[0m\u001b[1;33m,\u001b[0m \u001b[0meigvec\u001b[0m\u001b[1;33m=\u001b[0m\u001b[0mnp\u001b[0m\u001b[1;33m.\u001b[0m\u001b[0mlinalg\u001b[0m\u001b[1;33m.\u001b[0m\u001b[0meig\u001b[0m\u001b[1;33m(\u001b[0m\u001b[0mL\u001b[0m\u001b[1;33m)\u001b[0m\u001b[1;33m\u001b[0m\u001b[1;33m\u001b[0m\u001b[0m\n\u001b[0m\u001b[0;32m     37\u001b[0m     \u001b[0mprint\u001b[0m\u001b[1;33m(\u001b[0m\u001b[1;36m1\u001b[0m\u001b[1;33m)\u001b[0m\u001b[1;33m\u001b[0m\u001b[1;33m\u001b[0m\u001b[0m\n\u001b[0;32m     38\u001b[0m     \u001b[0mdim\u001b[0m\u001b[1;33m=\u001b[0m\u001b[0mlen\u001b[0m\u001b[1;33m(\u001b[0m\u001b[0meigval\u001b[0m\u001b[1;33m)\u001b[0m\u001b[1;33m\u001b[0m\u001b[1;33m\u001b[0m\u001b[0m\n",
      "\u001b[1;32m<__array_function__ internals>\u001b[0m in \u001b[0;36meig\u001b[1;34m(*args, **kwargs)\u001b[0m\n",
      "\u001b[1;32m~\\Anaconda3\\lib\\site-packages\\numpy\\linalg\\linalg.py\u001b[0m in \u001b[0;36meig\u001b[1;34m(a)\u001b[0m\n\u001b[0;32m   1322\u001b[0m         _raise_linalgerror_eigenvalues_nonconvergence)\n\u001b[0;32m   1323\u001b[0m     \u001b[0msignature\u001b[0m \u001b[1;33m=\u001b[0m \u001b[1;34m'D->DD'\u001b[0m \u001b[1;32mif\u001b[0m \u001b[0misComplexType\u001b[0m\u001b[1;33m(\u001b[0m\u001b[0mt\u001b[0m\u001b[1;33m)\u001b[0m \u001b[1;32melse\u001b[0m \u001b[1;34m'd->DD'\u001b[0m\u001b[1;33m\u001b[0m\u001b[1;33m\u001b[0m\u001b[0m\n\u001b[1;32m-> 1324\u001b[1;33m     \u001b[0mw\u001b[0m\u001b[1;33m,\u001b[0m \u001b[0mvt\u001b[0m \u001b[1;33m=\u001b[0m \u001b[0m_umath_linalg\u001b[0m\u001b[1;33m.\u001b[0m\u001b[0meig\u001b[0m\u001b[1;33m(\u001b[0m\u001b[0ma\u001b[0m\u001b[1;33m,\u001b[0m \u001b[0msignature\u001b[0m\u001b[1;33m=\u001b[0m\u001b[0msignature\u001b[0m\u001b[1;33m,\u001b[0m \u001b[0mextobj\u001b[0m\u001b[1;33m=\u001b[0m\u001b[0mextobj\u001b[0m\u001b[1;33m)\u001b[0m\u001b[1;33m\u001b[0m\u001b[1;33m\u001b[0m\u001b[0m\n\u001b[0m\u001b[0;32m   1325\u001b[0m \u001b[1;33m\u001b[0m\u001b[0m\n\u001b[0;32m   1326\u001b[0m     \u001b[1;32mif\u001b[0m \u001b[1;32mnot\u001b[0m \u001b[0misComplexType\u001b[0m\u001b[1;33m(\u001b[0m\u001b[0mt\u001b[0m\u001b[1;33m)\u001b[0m \u001b[1;32mand\u001b[0m \u001b[0mall\u001b[0m\u001b[1;33m(\u001b[0m\u001b[0mw\u001b[0m\u001b[1;33m.\u001b[0m\u001b[0mimag\u001b[0m \u001b[1;33m==\u001b[0m \u001b[1;36m0.0\u001b[0m\u001b[1;33m)\u001b[0m\u001b[1;33m:\u001b[0m\u001b[1;33m\u001b[0m\u001b[1;33m\u001b[0m\u001b[0m\n",
      "\u001b[1;31mMemoryError\u001b[0m: Unable to allocate 18.7 GiB for an array with shape (35462, 35462) and data type complex128"
     ]
    }
   ],
   "source": [
    "def getD(W):\n",
    "    \"\"\"\n",
    "    获得度矩阵\n",
    "    :param W: 邻接矩阵\n",
    "    :return: D\n",
    "    \"\"\"\n",
    "    D = np.diag(sum(W))\n",
    "    return D\n",
    "\n",
    "\n",
    "def getL(W):\n",
    "    \"\"\"\n",
    "    获得拉普拉斯矩阵\n",
    "    :param W: 邻接矩阵\n",
    "    :param D: 度矩阵\n",
    "    :return: L\n",
    "    \"\"\"\n",
    "    #L = D - W\n",
    "    D = np.diag(np.sum(W, axis=1))\n",
    "    return D-W\n",
    "\n",
    "\n",
    "def getEigen(L, cluster_num):\n",
    "    \"\"\"\n",
    "    获得拉普拉斯矩阵的特征矩阵\n",
    "    :param L:\n",
    "    :param cluter_num: 聚类数目\n",
    "    :return:\n",
    "    \"\"\"\n",
    "#     L = sp.sparse.coo_matrix(L)\n",
    "# # #     M = np.eye(10)\n",
    "#     eigval, eigvec = sp.sparse.linalg.eigs(A=L,sigma = 0.000000000000001)\n",
    "#     print(eigval.real)\n",
    "#     return eigvec.real\n",
    "  \n",
    "    eigval, eigvec=np.linalg.eig(L)\n",
    "    print(1)\n",
    "    dim=len(eigval)\n",
    "    print(2)\n",
    "    #查找前k小的eigval\n",
    "    dictEigval=dict(zip(eigval,range(0,dim)))\n",
    "    print(3)\n",
    "    kEig=np.sort(eigval)[0:cluster_num]\n",
    "    print(4)\n",
    "    ix=[dictEigval[k] for k in kEig]\n",
    "    print(5)\n",
    "    return eigvec[:,ix]\n",
    "\n",
    "def cluster(W, cluster_num):\n",
    "#     D = getD(W)\n",
    "    L = getL(W)\n",
    "    eigvec = getEigen(L, cluster_num)\n",
    "    clf = KMeans(n_clusters=cluster_num)\n",
    "    s = clf.fit(eigvec)  # 聚类\n",
    "    label = s.labels_\n",
    "    return  label\n",
    "\n",
    "label = cluster(W, 2)\n",
    "label"
   ]
  },
  {
   "cell_type": "code",
   "execution_count": 44,
   "metadata": {
    "ExecuteTime": {
     "end_time": "2021-04-22T05:40:23.200316Z",
     "start_time": "2021-04-22T05:40:23.183359Z"
    }
   },
   "outputs": [
    {
     "name": "stdout",
     "output_type": "stream",
     "text": [
      "Help on function eigs in module scipy.sparse.linalg.eigen.arpack.arpack:\n",
      "\n",
      "eigs(A, k=6, M=None, sigma=None, which='LM', v0=None, ncv=None, maxiter=None, tol=0, return_eigenvectors=True, Minv=None, OPinv=None, OPpart=None)\n",
      "    Find k eigenvalues and eigenvectors of the square matrix A.\n",
      "    \n",
      "    Solves ``A * x[i] = w[i] * x[i]``, the standard eigenvalue problem\n",
      "    for w[i] eigenvalues with corresponding eigenvectors x[i].\n",
      "    \n",
      "    If M is specified, solves ``A * x[i] = w[i] * M * x[i]``, the\n",
      "    generalized eigenvalue problem for w[i] eigenvalues\n",
      "    with corresponding eigenvectors x[i]\n",
      "    \n",
      "    Parameters\n",
      "    ----------\n",
      "    A : ndarray, sparse matrix or LinearOperator\n",
      "        An array, sparse matrix, or LinearOperator representing\n",
      "        the operation ``A * x``, where A is a real or complex square matrix.\n",
      "    k : int, optional\n",
      "        The number of eigenvalues and eigenvectors desired.\n",
      "        `k` must be smaller than N-1. It is not possible to compute all\n",
      "        eigenvectors of a matrix.\n",
      "    M : ndarray, sparse matrix or LinearOperator, optional\n",
      "        An array, sparse matrix, or LinearOperator representing\n",
      "        the operation M*x for the generalized eigenvalue problem\n",
      "    \n",
      "            A * x = w * M * x.\n",
      "    \n",
      "        M must represent a real, symmetric matrix if A is real, and must\n",
      "        represent a complex, hermitian matrix if A is complex. For best\n",
      "        results, the data type of M should be the same as that of A.\n",
      "        Additionally:\n",
      "    \n",
      "            If `sigma` is None, M is positive definite\n",
      "    \n",
      "            If sigma is specified, M is positive semi-definite\n",
      "    \n",
      "        If sigma is None, eigs requires an operator to compute the solution\n",
      "        of the linear equation ``M * x = b``.  This is done internally via a\n",
      "        (sparse) LU decomposition for an explicit matrix M, or via an\n",
      "        iterative solver for a general linear operator.  Alternatively,\n",
      "        the user can supply the matrix or operator Minv, which gives\n",
      "        ``x = Minv * b = M^-1 * b``.\n",
      "    sigma : real or complex, optional\n",
      "        Find eigenvalues near sigma using shift-invert mode.  This requires\n",
      "        an operator to compute the solution of the linear system\n",
      "        ``[A - sigma * M] * x = b``, where M is the identity matrix if\n",
      "        unspecified. This is computed internally via a (sparse) LU\n",
      "        decomposition for explicit matrices A & M, or via an iterative\n",
      "        solver if either A or M is a general linear operator.\n",
      "        Alternatively, the user can supply the matrix or operator OPinv,\n",
      "        which gives ``x = OPinv * b = [A - sigma * M]^-1 * b``.\n",
      "        For a real matrix A, shift-invert can either be done in imaginary\n",
      "        mode or real mode, specified by the parameter OPpart ('r' or 'i').\n",
      "        Note that when sigma is specified, the keyword 'which' (below)\n",
      "        refers to the shifted eigenvalues ``w'[i]`` where:\n",
      "    \n",
      "            If A is real and OPpart == 'r' (default),\n",
      "              ``w'[i] = 1/2 * [1/(w[i]-sigma) + 1/(w[i]-conj(sigma))]``.\n",
      "    \n",
      "            If A is real and OPpart == 'i',\n",
      "              ``w'[i] = 1/2i * [1/(w[i]-sigma) - 1/(w[i]-conj(sigma))]``.\n",
      "    \n",
      "            If A is complex, ``w'[i] = 1/(w[i]-sigma)``.\n",
      "    \n",
      "    v0 : ndarray, optional\n",
      "        Starting vector for iteration.\n",
      "        Default: random\n",
      "    ncv : int, optional\n",
      "        The number of Lanczos vectors generated\n",
      "        `ncv` must be greater than `k`; it is recommended that ``ncv > 2*k``.\n",
      "        Default: ``min(n, max(2*k + 1, 20))``\n",
      "    which : str, ['LM' | 'SM' | 'LR' | 'SR' | 'LI' | 'SI'], optional\n",
      "        Which `k` eigenvectors and eigenvalues to find:\n",
      "    \n",
      "            'LM' : largest magnitude\n",
      "    \n",
      "            'SM' : smallest magnitude\n",
      "    \n",
      "            'LR' : largest real part\n",
      "    \n",
      "            'SR' : smallest real part\n",
      "    \n",
      "            'LI' : largest imaginary part\n",
      "    \n",
      "            'SI' : smallest imaginary part\n",
      "    \n",
      "        When sigma != None, 'which' refers to the shifted eigenvalues w'[i]\n",
      "        (see discussion in 'sigma', above).  ARPACK is generally better\n",
      "        at finding large values than small values.  If small eigenvalues are\n",
      "        desired, consider using shift-invert mode for better performance.\n",
      "    maxiter : int, optional\n",
      "        Maximum number of Arnoldi update iterations allowed\n",
      "        Default: ``n*10``\n",
      "    tol : float, optional\n",
      "        Relative accuracy for eigenvalues (stopping criterion)\n",
      "        The default value of 0 implies machine precision.\n",
      "    return_eigenvectors : bool, optional\n",
      "        Return eigenvectors (True) in addition to eigenvalues\n",
      "    Minv : ndarray, sparse matrix or LinearOperator, optional\n",
      "        See notes in M, above.\n",
      "    OPinv : ndarray, sparse matrix or LinearOperator, optional\n",
      "        See notes in sigma, above.\n",
      "    OPpart : {'r' or 'i'}, optional\n",
      "        See notes in sigma, above\n",
      "    \n",
      "    Returns\n",
      "    -------\n",
      "    w : ndarray\n",
      "        Array of k eigenvalues.\n",
      "    v : ndarray\n",
      "        An array of `k` eigenvectors.\n",
      "        ``v[:, i]`` is the eigenvector corresponding to the eigenvalue w[i].\n",
      "    \n",
      "    Raises\n",
      "    ------\n",
      "    ArpackNoConvergence\n",
      "        When the requested convergence is not obtained.\n",
      "        The currently converged eigenvalues and eigenvectors can be found\n",
      "        as ``eigenvalues`` and ``eigenvectors`` attributes of the exception\n",
      "        object.\n",
      "    \n",
      "    See Also\n",
      "    --------\n",
      "    eigsh : eigenvalues and eigenvectors for symmetric matrix A\n",
      "    svds : singular value decomposition for a matrix A\n",
      "    \n",
      "    Notes\n",
      "    -----\n",
      "    This function is a wrapper to the ARPACK [1]_ SNEUPD, DNEUPD, CNEUPD,\n",
      "    ZNEUPD, functions which use the Implicitly Restarted Arnoldi Method to\n",
      "    find the eigenvalues and eigenvectors [2]_.\n",
      "    \n",
      "    References\n",
      "    ----------\n",
      "    .. [1] ARPACK Software, http://www.caam.rice.edu/software/ARPACK/\n",
      "    .. [2] R. B. Lehoucq, D. C. Sorensen, and C. Yang,  ARPACK USERS GUIDE:\n",
      "       Solution of Large Scale Eigenvalue Problems by Implicitly Restarted\n",
      "       Arnoldi Methods. SIAM, Philadelphia, PA, 1998.\n",
      "    \n",
      "    Examples\n",
      "    --------\n",
      "    Find 6 eigenvectors of the identity matrix:\n",
      "    \n",
      "    >>> from scipy.sparse.linalg import eigs\n",
      "    >>> id = np.eye(13)\n",
      "    >>> vals, vecs = eigs(id, k=6)\n",
      "    >>> vals\n",
      "    array([ 1.+0.j,  1.+0.j,  1.+0.j,  1.+0.j,  1.+0.j,  1.+0.j])\n",
      "    >>> vecs.shape\n",
      "    (13, 6)\n",
      "\n"
     ]
    }
   ],
   "source": [
    "help(sp.sparse.linalg.eigs)"
   ]
  },
  {
   "cell_type": "code",
   "execution_count": null,
   "metadata": {
    "ExecuteTime": {
     "start_time": "2021-04-22T02:54:28.538Z"
    }
   },
   "outputs": [],
   "source": [
    "colorList = []\n",
    "for i in range(6):\n",
    "    colorList.append((random.randint(0,255),random.randint(0,255),random.randint(0,255)))\n",
    "for i in range(len(label)):\n",
    "    plydata.elements[1][i]['red'] = colorList[label[i]][0]\n",
    "    plydata.elements[1][i]['green'] = colorList[label[i]][1]    \n",
    "    plydata.elements[1][i]['blue'] = colorList[label[i]][2]    \n",
    "plydata.write('1.ply')"
   ]
  },
  {
   "cell_type": "code",
   "execution_count": 53,
   "metadata": {
    "ExecuteTime": {
     "end_time": "2021-04-21T14:18:33.236845Z",
     "start_time": "2021-04-21T14:18:33.219817Z"
    }
   },
   "outputs": [
    {
     "data": {
      "text/plain": [
       "231"
      ]
     },
     "execution_count": 53,
     "metadata": {},
     "output_type": "execute_result"
    }
   ],
   "source": [
    "import random\n",
    "random.randint(0,255)"
   ]
  },
  {
   "cell_type": "code",
   "execution_count": null,
   "metadata": {
    "ExecuteTime": {
     "start_time": "2021-04-21T14:29:10.450Z"
    },
    "scrolled": true
   },
   "outputs": [],
   "source": []
  },
  {
   "cell_type": "code",
   "execution_count": 24,
   "metadata": {
    "ExecuteTime": {
     "end_time": "2021-04-21T14:03:36.023579Z",
     "start_time": "2021-04-21T14:03:35.224584Z"
    }
   },
   "outputs": [
    {
     "name": "stderr",
     "output_type": "stream",
     "text": [
      "C:\\Users\\lenovo\\Anaconda3\\lib\\site-packages\\ipykernel_launcher.py:8: DeprecationWarning: time.clock has been deprecated in Python 3.3 and will be removed from Python 3.8: use time.perf_counter or time.process_time instead\n",
      "  \n"
     ]
    },
    {
     "name": "stdout",
     "output_type": "stream",
     "text": [
      "first 6 eigenvaluse cost 0.7843808000000081\n",
      "[0.99990442+0.j 0.9992245 +0.j 0.99908282+0.j]\n"
     ]
    },
    {
     "name": "stderr",
     "output_type": "stream",
     "text": [
      "C:\\Users\\lenovo\\Anaconda3\\lib\\site-packages\\ipykernel_launcher.py:10: DeprecationWarning: time.clock has been deprecated in Python 3.3 and will be removed from Python 3.8: use time.perf_counter or time.process_time instead\n",
      "  # Remove the CWD from sys.path while we load stuff.\n"
     ]
    }
   ],
   "source": [
    "import scipy as sp\n",
    "import scipy.sparse.linalg\n",
    "import numpy as np\n",
    "import time\n",
    "A = sp.sparse.lil_matrix((1000, 1000))\n",
    "A[0,:1000]=np.random.rand(1000)\n",
    "A.setdiag(np.random.rand(10000))\n",
    "timeCheckin=time.clock()\n",
    "vals, vecs = sp.sparse.linalg.eigs(A, k=3)\n",
    "print(\"first 6 eigenvaluse cost %s\" % (time.clock()-timeCheckin))\n",
    "print (vals)\n"
   ]
  },
  {
   "cell_type": "code",
   "execution_count": null,
   "metadata": {
    "ExecuteTime": {
     "end_time": "2021-04-21T13:56:57.212565Z",
     "start_time": "2021-04-21T13:56:57.196595Z"
    }
   },
   "outputs": [],
   "source": []
  },
  {
   "cell_type": "code",
   "execution_count": null,
   "metadata": {
    "ExecuteTime": {
     "end_time": "2021-04-21T13:56:00.486550Z",
     "start_time": "2021-04-21T13:56:00.467774Z"
    }
   },
   "outputs": [],
   "source": []
  },
  {
   "cell_type": "code",
   "execution_count": null,
   "metadata": {
    "ExecuteTime": {
     "end_time": "2021-04-21T12:25:44.317940Z",
     "start_time": "2021-04-21T12:25:43.984562Z"
    }
   },
   "outputs": [],
   "source": [
    "a = [1,2,3,4,4,6]\n"
   ]
  },
  {
   "cell_type": "code",
   "execution_count": 27,
   "metadata": {
    "ExecuteTime": {
     "end_time": "2021-03-10T12:33:12.510751Z",
     "start_time": "2021-03-10T12:33:10.998729Z"
    }
   },
   "outputs": [
    {
     "data": {
      "text/html": [
       "<div>\n",
       "<style scoped>\n",
       "    .dataframe tbody tr th:only-of-type {\n",
       "        vertical-align: middle;\n",
       "    }\n",
       "\n",
       "    .dataframe tbody tr th {\n",
       "        vertical-align: top;\n",
       "    }\n",
       "\n",
       "    .dataframe thead th {\n",
       "        text-align: right;\n",
       "    }\n",
       "</style>\n",
       "<table border=\"1\" class=\"dataframe\">\n",
       "  <thead>\n",
       "    <tr style=\"text-align: right;\">\n",
       "      <th></th>\n",
       "      <th>x</th>\n",
       "      <th>y</th>\n",
       "      <th>z</th>\n",
       "    </tr>\n",
       "  </thead>\n",
       "  <tbody>\n",
       "    <tr>\n",
       "      <td>0</td>\n",
       "      <td>89.477730</td>\n",
       "      <td>10.516972</td>\n",
       "      <td>120.252052</td>\n",
       "    </tr>\n",
       "    <tr>\n",
       "      <td>1</td>\n",
       "      <td>89.477730</td>\n",
       "      <td>10.284519</td>\n",
       "      <td>120.610497</td>\n",
       "    </tr>\n",
       "    <tr>\n",
       "      <td>2</td>\n",
       "      <td>89.757812</td>\n",
       "      <td>10.284519</td>\n",
       "      <td>120.252052</td>\n",
       "    </tr>\n",
       "    <tr>\n",
       "      <td>3</td>\n",
       "      <td>88.277733</td>\n",
       "      <td>11.042942</td>\n",
       "      <td>120.852051</td>\n",
       "    </tr>\n",
       "    <tr>\n",
       "      <td>4</td>\n",
       "      <td>88.277733</td>\n",
       "      <td>10.884519</td>\n",
       "      <td>121.011864</td>\n",
       "    </tr>\n",
       "  </tbody>\n",
       "</table>\n",
       "</div>"
      ],
      "text/plain": [
       "           x          y           z\n",
       "0  89.477730  10.516972  120.252052\n",
       "1  89.477730  10.284519  120.610497\n",
       "2  89.757812  10.284519  120.252052\n",
       "3  88.277733  11.042942  120.852051\n",
       "4  88.277733  10.884519  121.011864"
      ]
     },
     "execution_count": 27,
     "metadata": {},
     "output_type": "execute_result"
    }
   ],
   "source": [
    "data1 = pd.DataFrame(list(plydata.elements[0]['x']),columns={'x'})\n",
    "data2 = pd.DataFrame(list(plydata.elements[0]['y']),columns={'y'})\n",
    "data3 = pd.DataFrame(list(plydata.elements[0]['z']),columns={'z'})\n",
    "data = pd.concat([data1,data2],axis=1)\n",
    "data = pd.concat([data,data3],axis=1)\n",
    "data.head()"
   ]
  },
  {
   "cell_type": "code",
   "execution_count": 59,
   "metadata": {
    "ExecuteTime": {
     "end_time": "2021-03-10T12:49:38.015008Z",
     "start_time": "2021-03-10T12:49:38.004650Z"
    }
   },
   "outputs": [
    {
     "data": {
      "text/html": [
       "\n",
       "<script>\n",
       "    require.config({\n",
       "        paths: {\n",
       "            'echarts':'https://assets.pyecharts.org/assets/echarts.min', 'echarts-gl':'https://assets.pyecharts.org/assets/echarts-gl.min'\n",
       "        }\n",
       "    });\n",
       "</script>\n",
       "\n",
       "        <div id=\"4ba396590f1147ceb117806a25631de0\" style=\"width:900px; height:600px;\"></div>\n",
       "\n",
       "<script>\n",
       "        require(['echarts', 'echarts-gl'], function(echarts) {\n",
       "                var chart_4ba396590f1147ceb117806a25631de0 = echarts.init(\n",
       "                    document.getElementById('4ba396590f1147ceb117806a25631de0'), 'white', {renderer: 'canvas'});\n",
       "                var option_4ba396590f1147ceb117806a25631de0 = {\n",
       "    \"animation\": true,\n",
       "    \"animationThreshold\": 2000,\n",
       "    \"animationDuration\": 1000,\n",
       "    \"animationEasing\": \"cubicOut\",\n",
       "    \"animationDelay\": 0,\n",
       "    \"animationDurationUpdate\": 300,\n",
       "    \"animationEasingUpdate\": \"cubicOut\",\n",
       "    \"animationDelayUpdate\": 0,\n",
       "    \"color\": [\n",
       "        \"#c23531\",\n",
       "        \"#2f4554\",\n",
       "        \"#61a0a8\",\n",
       "        \"#d48265\",\n",
       "        \"#749f83\",\n",
       "        \"#ca8622\",\n",
       "        \"#bda29a\",\n",
       "        \"#6e7074\",\n",
       "        \"#546570\",\n",
       "        \"#c4ccd3\",\n",
       "        \"#f05b72\",\n",
       "        \"#ef5b9c\",\n",
       "        \"#f47920\",\n",
       "        \"#905a3d\",\n",
       "        \"#fab27b\",\n",
       "        \"#2a5caa\",\n",
       "        \"#444693\",\n",
       "        \"#726930\",\n",
       "        \"#b2d235\",\n",
       "        \"#6d8346\",\n",
       "        \"#ac6767\",\n",
       "        \"#1d953f\",\n",
       "        \"#6950a1\",\n",
       "        \"#918597\"\n",
       "    ],\n",
       "    \"series\": [\n",
       "        {\n",
       "            \"type\": \"scatter3D\",\n",
       "            \"data\": [\n",
       "                null,\n",
       "                null\n",
       "            ],\n",
       "            \"label\": {\n",
       "                \"show\": false,\n",
       "                \"position\": \"top\",\n",
       "                \"margin\": 8\n",
       "            }\n",
       "        }\n",
       "    ],\n",
       "    \"legend\": [\n",
       "        {\n",
       "            \"data\": [\n",
       "                \"\"\n",
       "            ],\n",
       "            \"selected\": {}\n",
       "        }\n",
       "    ],\n",
       "    \"tooltip\": {\n",
       "        \"show\": true,\n",
       "        \"trigger\": \"item\",\n",
       "        \"triggerOn\": \"mousemove|click\",\n",
       "        \"axisPointer\": {\n",
       "            \"type\": \"line\"\n",
       "        },\n",
       "        \"textStyle\": {\n",
       "            \"fontSize\": 14\n",
       "        },\n",
       "        \"borderWidth\": 0\n",
       "    },\n",
       "    \"visualMap\": {\n",
       "        \"show\": true,\n",
       "        \"type\": \"continuous\",\n",
       "        \"min\": 0,\n",
       "        \"max\": 100,\n",
       "        \"inRange\": {\n",
       "            \"color\": [\n",
       "                \"#50a3ba\",\n",
       "                \"#eac763\",\n",
       "                \"#d94e5d\"\n",
       "            ]\n",
       "        },\n",
       "        \"calculable\": true,\n",
       "        \"inverse\": false,\n",
       "        \"splitNumber\": 5,\n",
       "        \"orient\": \"vertical\",\n",
       "        \"showLabel\": true,\n",
       "        \"itemWidth\": 20,\n",
       "        \"itemHeight\": 140,\n",
       "        \"borderWidth\": 0\n",
       "    },\n",
       "    \"xAxis3D\": {\n",
       "        \"nameGap\": 20,\n",
       "        \"type\": \"category\",\n",
       "        \"axisLabel\": {\n",
       "            \"margin\": 8\n",
       "        }\n",
       "    },\n",
       "    \"yAxis3D\": {\n",
       "        \"nameGap\": 20,\n",
       "        \"type\": \"category\",\n",
       "        \"axisLabel\": {\n",
       "            \"margin\": 8\n",
       "        }\n",
       "    },\n",
       "    \"zAxis3D\": {\n",
       "        \"nameGap\": 20,\n",
       "        \"type\": \"value\",\n",
       "        \"axisLabel\": {\n",
       "            \"margin\": 8\n",
       "        }\n",
       "    },\n",
       "    \"grid3D\": {\n",
       "        \"boxWidth\": 200,\n",
       "        \"boxHeight\": 100,\n",
       "        \"boxDepth\": 80,\n",
       "        \"viewControl\": {\n",
       "            \"autoRotate\": false,\n",
       "            \"autoRotateSpeed\": 10,\n",
       "            \"rotateSensitivity\": 1\n",
       "        }\n",
       "    }\n",
       "};\n",
       "                chart_4ba396590f1147ceb117806a25631de0.setOption(option_4ba396590f1147ceb117806a25631de0);\n",
       "        });\n",
       "    </script>\n"
      ],
      "text/plain": [
       "<pyecharts.render.display.HTML at 0x1391892d308>"
      ]
     },
     "execution_count": 59,
     "metadata": {},
     "output_type": "execute_result"
    }
   ],
   "source": [
    "from pyecharts.faker import Faker\n",
    "scatter = Scatter3D(init_opts = opts.InitOpts(width='900px',height='600px')).add(\"\",list(data[1:3].values)    )\n",
    "scatter.render_notebook()"
   ]
  },
  {
   "cell_type": "code",
   "execution_count": 1,
   "metadata": {
    "ExecuteTime": {
     "end_time": "2021-03-17T03:57:49.362271Z",
     "start_time": "2021-03-17T03:57:48.856251Z"
    }
   },
   "outputs": [],
   "source": [
    "import open3d as o3d"
   ]
  },
  {
   "cell_type": "code",
   "execution_count": 4,
   "metadata": {
    "ExecuteTime": {
     "end_time": "2021-03-17T03:59:21.064421Z",
     "start_time": "2021-03-17T03:58:47.666828Z"
    }
   },
   "outputs": [
    {
     "name": "stdout",
     "output_type": "stream",
     "text": [
      "PointCloud with 732684 points.\n"
     ]
    }
   ],
   "source": [
    "pkl = o3d.io.read_point_cloud(\"mmpData/pottery1.ply\")\n",
    "print(pkl)\n",
    "\n",
    "o3d.visualization.draw_geometries([pkl])"
   ]
  },
  {
   "cell_type": "code",
   "execution_count": 8,
   "metadata": {
    "ExecuteTime": {
     "end_time": "2021-03-17T04:09:38.603219Z",
     "start_time": "2021-03-17T04:09:38.594823Z"
    },
    "scrolled": true
   },
   "outputs": [
    {
     "ename": "AttributeError",
     "evalue": "'open3d.cpu.pybind.geometry.PointCloud' object has no attribute 'x'",
     "output_type": "error",
     "traceback": [
      "\u001b[1;31m---------------------------------------------------------------------------\u001b[0m",
      "\u001b[1;31mAttributeError\u001b[0m                            Traceback (most recent call last)",
      "\u001b[1;32m<ipython-input-8-b5f9939f0c2b>\u001b[0m in \u001b[0;36m<module>\u001b[1;34m\u001b[0m\n\u001b[1;32m----> 1\u001b[1;33m \u001b[0mhelp\u001b[0m\u001b[1;33m(\u001b[0m\u001b[0mpkl\u001b[0m\u001b[1;33m.\u001b[0m\u001b[0mx\u001b[0m\u001b[1;33m)\u001b[0m\u001b[1;33m\u001b[0m\u001b[1;33m\u001b[0m\u001b[0m\n\u001b[0m",
      "\u001b[1;31mAttributeError\u001b[0m: 'open3d.cpu.pybind.geometry.PointCloud' object has no attribute 'x'"
     ]
    }
   ],
   "source": [
    "help(pkl"
   ]
  }
 ],
 "metadata": {
  "kernelspec": {
   "display_name": "Python 3",
   "language": "python",
   "name": "python3"
  },
  "language_info": {
   "codemirror_mode": {
    "name": "ipython",
    "version": 3
   },
   "file_extension": ".py",
   "mimetype": "text/x-python",
   "name": "python",
   "nbconvert_exporter": "python",
   "pygments_lexer": "ipython3",
   "version": "3.7.4"
  },
  "toc": {
   "base_numbering": 1,
   "nav_menu": {},
   "number_sections": true,
   "sideBar": true,
   "skip_h1_title": false,
   "title_cell": "Table of Contents",
   "title_sidebar": "Contents",
   "toc_cell": false,
   "toc_position": {},
   "toc_section_display": true,
   "toc_window_display": false
  }
 },
 "nbformat": 4,
 "nbformat_minor": 2
}
